{
  "nbformat": 4,
  "nbformat_minor": 0,
  "metadata": {
    "colab": {
      "provenance": [],
      "toc_visible": true,
      "authorship_tag": "ABX9TyMboSeqEzB83tbNXGPs5Yag",
      "include_colab_link": true
    },
    "kernelspec": {
      "name": "python3",
      "display_name": "Python 3"
    },
    "language_info": {
      "name": "python"
    }
  },
  "cells": [
    {
      "cell_type": "markdown",
      "metadata": {
        "id": "view-in-github",
        "colab_type": "text"
      },
      "source": [
        "<a href=\"https://colab.research.google.com/github/ShedovaNastya/design-workshop/blob/main/FaceDataset.ipynb\" target=\"_parent\"><img src=\"https://colab.research.google.com/assets/colab-badge.svg\" alt=\"Open In Colab\"/></a>"
      ]
    },
    {
      "cell_type": "markdown",
      "source": [
        "#IMPORT MODULE"
      ],
      "metadata": {
        "id": "RmMRctiWFF0Y"
      }
    },
    {
      "cell_type": "code",
      "source": [
        "import torch\n",
        "import os\n",
        "from IPython.display import clear_output\n",
        "import numpy as np\n",
        "from PIL import Image\n",
        "import torchvision.transforms as T\n",
        "import matplotlib.pyplot as plt\n",
        "from torch.utils.data import DataLoader"
      ],
      "metadata": {
        "id": "ekwVHaNyA7uQ"
      },
      "execution_count": 86,
      "outputs": []
    },
    {
      "cell_type": "code",
      "source": [
        "from google.colab import drive\n",
        "drive.mount(\"/content/drive\")"
      ],
      "metadata": {
        "colab": {
          "base_uri": "https://localhost:8080/"
        },
        "id": "mQj-02S26RrA",
        "outputId": "e0b941c2-1894-4d55-df91-a762b2bc4383"
      },
      "execution_count": 2,
      "outputs": [
        {
          "output_type": "stream",
          "name": "stdout",
          "text": [
            "Mounted at /content/drive\n"
          ]
        }
      ]
    },
    {
      "cell_type": "code",
      "source": [
        "!unzip /content/drive/MyDrive/celebA_train_500.zip"
      ],
      "metadata": {
        "id": "oQR-Ne0-rp-t"
      },
      "execution_count": null,
      "outputs": []
    },
    {
      "cell_type": "markdown",
      "source": [
        "#DATASET"
      ],
      "metadata": {
        "id": "URz1IjgcFNY9"
      }
    },
    {
      "cell_type": "code",
      "source": [
        "class FaceDataset(torch.utils.data.Dataset):\n",
        "\n",
        "    def __init__(self, images_folder, label_folder, sample_folder, type_dataset, transform):\n",
        "      \"\"\"\n",
        "      image_folder: путь до папки с изображениями\n",
        "      label_folder: путь до файла, где какой человек находится\n",
        "      sample_folder: путь до файла к какому датасету относится конкретное изображение\n",
        "      type_dataset: датасет, который нас сейчас интересует\n",
        "      transform: преобразование изображения\n",
        "      \"\"\"\n",
        "      self.images_folder = images_folder\n",
        "      self.label_folder = label_folder\n",
        "      self.sample_folder = sample_folder\n",
        "      self.type_dataset = type_dataset\n",
        "      self.transform = transform\n",
        "\n",
        "\n",
        "      with open(self.label_folder, 'r') as file: #человек\n",
        "        self.labels = {}\n",
        "        for i in file.readlines():\n",
        "          key, value = i.split()\n",
        "          self.labels[key] = int(value)\n",
        "\n",
        "      with open(self.sample_folder, 'r') as file: #классификация датасетов\n",
        "        self.samples = {}\n",
        "        for i in file.readlines():\n",
        "          key, value = i.split()\n",
        "          self.samples[key] = int(value)\n",
        "\n",
        "      self.files = [i for i in os.listdir(self.images_folder) if self.samples.get(i, 5) == self.type_dataset]\n",
        "\n",
        "    def __len__(self):\n",
        "      return len(self.files)\n",
        "\n",
        "    def __getitem__(self, idx):\n",
        "      image_name = self.images_folder + self.files[idx]\n",
        "      image = np.array(Image.open(image_name))\n",
        "      image = Image.fromarray(image[77:-41,45:-50])\n",
        "      label = int(self.labels[self.files[idx]])\n",
        "      image = self.transform(image)\n",
        "      return image, label\n",
        "\n",
        "\n"
      ],
      "metadata": {
        "id": "cszFTpZF_xa3"
      },
      "execution_count": 27,
      "outputs": []
    },
    {
      "cell_type": "code",
      "source": [
        "train_dataset = FaceDataset('/content/celebA_train_500/celebA_imgs/',\n",
        "                            '/content/celebA_train_500/celebA_anno.txt',\n",
        "                            '/content/celebA_train_500/celebA_train_split.txt',\n",
        "                            0,\n",
        "                            T.Compose([\n",
        "                                T.Resize((224, 224)), T.ToTensor()\n",
        "                            ]))\n",
        "val_dataset = FaceDataset('/content/celebA_train_500/celebA_imgs/',\n",
        "                            '/content/celebA_train_500/celebA_anno.txt',\n",
        "                            '/content/celebA_train_500/celebA_train_split.txt',\n",
        "                            1,\n",
        "                            T.Compose([\n",
        "                                T.Resize((224, 224)), T.ToTensor()\n",
        "                            ]))\n",
        "test_dataset = FaceDataset('/content/celebA_train_500/celebA_imgs/',\n",
        "                            '/content/celebA_train_500/celebA_anno.txt',\n",
        "                            '/content/celebA_train_500/celebA_train_split.txt',\n",
        "                            2,\n",
        "                            T.Compose([\n",
        "                                T.Resize((224, 224)), T.ToTensor()\n",
        "                            ]))"
      ],
      "metadata": {
        "id": "aLuvtew8_Jlq"
      },
      "execution_count": 68,
      "outputs": []
    },
    {
      "cell_type": "code",
      "source": [
        "train_loader = DataLoader(train_dataset, batch_size = 30, shuffle = True)\n",
        "val_loader = DataLoader(val_dataset, batch_size = 30, shuffle = False)\n",
        "test_loader = DataLoader(test_dataset, batch_size = 30, shuffle = False)"
      ],
      "metadata": {
        "id": "FTgCgGE4JwuA"
      },
      "execution_count": 96,
      "outputs": []
    },
    {
      "cell_type": "code",
      "source": [],
      "metadata": {
        "id": "j4caoXemsWbb"
      },
      "execution_count": null,
      "outputs": []
    }
  ]
}